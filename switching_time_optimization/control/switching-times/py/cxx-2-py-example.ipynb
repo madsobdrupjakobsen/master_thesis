{
 "cells": [
  {
   "cell_type": "code",
   "execution_count": 1,
   "metadata": {},
   "outputs": [],
   "source": [
    "import numpy as np\n",
    "import switching_times as st"
   ]
  },
  {
   "cell_type": "code",
   "execution_count": 2,
   "metadata": {},
   "outputs": [],
   "source": [
    "wwtp = st.plant()"
   ]
  },
  {
   "cell_type": "code",
   "execution_count": 3,
   "metadata": {},
   "outputs": [],
   "source": [
    "x0 = np.array([1.12, 0.87, 0., 0.]) # IC for ODE\n",
    "p_const = np.array([0.00067, 36.9, 0.073, \n",
    "                    0.1, 2., 0.3, 7.84,\n",
    "                    0.5, 0.,\n",
    "                    1.,\n",
    "                    1., 1.]) # constant parameters of system\n",
    "p_dynamic = np.zeros(48 + 49) # day-ahead prices and day-ahead times -> vary in each new optimization -> therefore dynamic\n",
    "for k in range(0, 48):\n",
    "    p_dynamic[k] = 10.\n",
    "for k in range(0, 49):\n",
    "    p_dynamic[48 + k] = k * 60.\n",
    "t0 = 0. # optimization start\n",
    "tf = 6. * 60. # optimization end\n",
    "dt = 0.2 # optimization discretization\n",
    "n_s = 10 # number of switches\n",
    "p_optimize = np.zeros(2 * n_s) # initial value of optimization variables\n",
    "lower_bound = np.zeros(2 * n_s) # lower bounds for optimization variables\n",
    "upper_bound = np.zeros(2 * n_s) # upper bounds for optimization variables\n",
    "on_bound = np.array([6., 60.])\n",
    "off_bound = np.array([20., 120.])\n",
    "for k in range(0, 2 * n_s):\n",
    "    lower_bound[k], upper_bound[k] = t0, tf\n",
    "p_optimize[n_s] = on_bound[0] + 1.\n",
    "for k in range(1, n_s):\n",
    "    p_optimize[k] = p_optimize[n_s + k - 1] + off_bound[0] + 1.\n",
    "    p_optimize[n_s + k] = p_optimize[k] + on_bound[0] + 1."
   ]
  },
  {
   "cell_type": "code",
   "execution_count": 4,
   "metadata": {},
   "outputs": [],
   "source": [
    "wwtp.set_p_const(p_const)\n",
    "wwtp.set_p_dynamic(p_dynamic)\n",
    "wwtp.set_p_optimize(p_optimize)\n",
    "wwtp.set_t0(t0)\n",
    "wwtp.set_tf(tf)\n",
    "wwtp.set_dt(dt)\n",
    "wwtp.set_x0(x0)\n",
    "wwtp.set_lower_bound(lower_bound)\n",
    "wwtp.set_upper_bound(upper_bound)\n",
    "wwtp.set_on_bound(on_bound)\n",
    "wwtp.set_off_bound(off_bound)"
   ]
  },
  {
   "cell_type": "code",
   "execution_count": 5,
   "metadata": {},
   "outputs": [
    {
     "name": "stdout",
     "output_type": "stream",
     "text": [
      "[6.70e-04 3.69e+01 7.30e-02 1.00e-01 2.00e+00 3.00e-01 7.84e+00 5.00e-01\n",
      " 0.00e+00 1.00e+00 1.00e+00 1.00e+00]\n",
      "-\n",
      "[  10.   10.   10.   10.   10.   10.   10.   10.   10.   10.   10.   10.\n",
      "   10.   10.   10.   10.   10.   10.   10.   10.   10.   10.   10.   10.\n",
      "   10.   10.   10.   10.   10.   10.   10.   10.   10.   10.   10.   10.\n",
      "   10.   10.   10.   10.   10.   10.   10.   10.   10.   10.   10.   10.\n",
      "    0.   60.  120.  180.  240.  300.  360.  420.  480.  540.  600.  660.\n",
      "  720.  780.  840.  900.  960. 1020. 1080. 1140. 1200. 1260. 1320. 1380.\n",
      " 1440. 1500. 1560. 1620. 1680. 1740. 1800. 1860. 1920. 1980. 2040. 2100.\n",
      " 2160. 2220. 2280. 2340. 2400. 2460. 2520. 2580. 2640. 2700. 2760. 2820.\n",
      " 2880.]\n",
      "-\n",
      "[  0.  28.  56.  84. 112. 140. 168. 196. 224. 252.   7.  35.  63.  91.\n",
      " 119. 147. 175. 203. 231. 259.]\n",
      "-\n",
      "0.0\n",
      "-\n",
      "360.0\n",
      "-\n",
      "0.2\n",
      "-\n",
      "[1.12 0.87 0.   0.  ]\n",
      "-\n",
      "[0. 0. 0. 0. 0. 0. 0. 0. 0. 0. 0. 0. 0. 0. 0. 0. 0. 0. 0. 0.]\n",
      "-\n",
      "[0. 0. 0. 0. 0. 0. 0. 0. 0. 0. 0. 0. 0. 0. 0. 0. 0. 0. 0. 0.]\n",
      "-\n",
      "[ 6. 60.]\n",
      "-\n",
      "[ 20. 120.]\n",
      "-\n"
     ]
    }
   ],
   "source": [
    "print(wwtp.get_p_const())\n",
    "print(\"-\")\n",
    "print(wwtp.get_p_dynamic())\n",
    "print(\"-\")\n",
    "print(wwtp.get_p_optimize())\n",
    "print(\"-\")\n",
    "print(wwtp.get_t0())\n",
    "print(\"-\")\n",
    "print(wwtp.get_tf())\n",
    "print(\"-\")\n",
    "print(wwtp.get_dt())\n",
    "print(\"-\")\n",
    "print(wwtp.get_x0())\n",
    "print(\"-\")\n",
    "print(wwtp.get_lower_bound())\n",
    "print(\"-\")\n",
    "print(wwtp.get_upper_bound())\n",
    "print(\"-\")\n",
    "print(wwtp.get_on_bound())\n",
    "print(\"-\")\n",
    "print(wwtp.get_off_bound())\n",
    "print(\"-\")"
   ]
  },
  {
   "cell_type": "code",
   "execution_count": 6,
   "metadata": {},
   "outputs": [],
   "source": [
    "wwtp.solve()"
   ]
  },
  {
   "cell_type": "code",
   "execution_count": 7,
   "metadata": {},
   "outputs": [
    {
     "name": "stdout",
     "output_type": "stream",
     "text": [
      "[  0.          25.99999973  51.99999948  77.99999922 103.99999896\n",
      " 129.99999871 155.99999845 181.9999982  207.99999795 233.99999771\n",
      "   5.99999993  31.99999967  57.99999942  83.99999916 109.9999989\n",
      " 135.99999865 161.99999839 187.99999814 213.99999789 239.99999765]\n"
     ]
    }
   ],
   "source": [
    "print(wwtp.get_p_optimize_ipopt())"
   ]
  },
  {
   "cell_type": "code",
   "execution_count": 8,
   "metadata": {},
   "outputs": [
    {
     "name": "stdout",
     "output_type": "stream",
     "text": [
      "0\n",
      "0\n"
     ]
    }
   ],
   "source": [
    "print(wwtp.get_init_status())\n",
    "print(wwtp.get_solve_status())"
   ]
  },
  {
   "cell_type": "code",
   "execution_count": 9,
   "metadata": {},
   "outputs": [
    {
     "name": "stdout",
     "output_type": "stream",
     "text": [
      "[  0.          -2.00000027  -4.00000052  -6.00000078  -8.00000104\n",
      " -10.00000129 -12.00000155 -14.0000018  -16.00000205 -18.00000229\n",
      "  -1.00000007  -3.00000033  -5.00000058  -7.00000084  -9.0000011\n",
      " -11.00000135 -13.00000161 -15.00000186 -17.00000211 -19.00000235]\n"
     ]
    }
   ],
   "source": [
    "print(wwtp.get_p_optimize_ipopt() - wwtp.get_p_optimize())"
   ]
  },
  {
   "cell_type": "code",
   "execution_count": null,
   "metadata": {},
   "outputs": [],
   "source": []
  }
 ],
 "metadata": {
  "kernelspec": {
   "display_name": "Python 3",
   "language": "python",
   "name": "python3"
  },
  "language_info": {
   "codemirror_mode": {
    "name": "ipython",
    "version": 3
   },
   "file_extension": ".py",
   "mimetype": "text/x-python",
   "name": "python",
   "nbconvert_exporter": "python",
   "pygments_lexer": "ipython3",
   "version": "3.6.8"
  }
 },
 "nbformat": 4,
 "nbformat_minor": 2
}
