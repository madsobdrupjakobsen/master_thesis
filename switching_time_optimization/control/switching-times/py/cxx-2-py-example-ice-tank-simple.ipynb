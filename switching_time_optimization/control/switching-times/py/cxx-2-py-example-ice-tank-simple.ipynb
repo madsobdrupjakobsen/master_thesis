{
 "cells": [
  {
   "cell_type": "code",
   "execution_count": 2,
   "metadata": {},
   "outputs": [],
   "source": [
    "import numpy as np\n",
    "import switching_times as st\n",
    "\n",
    "%load_ext autoreload\n",
    "%autoreload 2"
   ]
  },
  {
   "cell_type": "code",
   "execution_count": 3,
   "metadata": {},
   "outputs": [],
   "source": [
    "wwtp = st.plant()"
   ]
  },
  {
   "cell_type": "code",
   "execution_count": 4,
   "metadata": {},
   "outputs": [],
   "source": [
    "lambda_MELT = 0.00183*60\n",
    "lambda_IDLE = 0.00085*60\n",
    "mu_MELT = 66.92400 \n",
    "mu_IDLE = 94.89100\n",
    "k = 12400.\n",
    "k_MELT = 250.\n",
    "k_IDLE = 9.\n",
    "dap = 1/1000000 * (10 + 6.8 * np.array([12.5,0.01,0.125,0.12,12.4,12.3,2.3,4,12.6,11,12.5,10,12.6,11,7.5,5,11.8,2.4,0.3,7.6,0.3,2,4,12.5]))\n",
    "dap = np.concatenate((dap,dap))\n",
    "#dap[-4] += 1000"
   ]
  },
  {
   "cell_type": "code",
   "execution_count": 5,
   "metadata": {},
   "outputs": [],
   "source": [
    "x0 = np.array([24., 0.]) # IC for ODE\n",
    "p_const = np.array([lambda_MELT, mu_MELT, lambda_IDLE, \n",
    "                    mu_IDLE, k, k_MELT, k_IDLE]) # constant parameters of system\n",
    "p_dynamic = np.zeros(48 + 49) # day-ahead prices and day-ahead times -> vary in each new optimization -> therefore dynamic\n",
    "for k in range(0, 48):\n",
    "    p_dynamic[k] = dap[k]\n",
    "for k in range(0, 49):\n",
    "    p_dynamic[48 + k] = k * 60.\n",
    "t0 = 0. # optimization start\n",
    "tf = 24. * 60. # optimization end\n",
    "dt = 0.1 # optimization discretization\n",
    "n_s = 5 # number of switches\n",
    "p_optimize = np.zeros(2 * n_s) # initial value of optimization variables\n",
    "lower_bound = np.zeros(2 * n_s) # lower bounds for optimization variables\n",
    "upper_bound = np.zeros(2 * n_s) # upper bounds for optimization variables\n",
    "on_bound = np.array([0., 100000., 8.*60.])\n",
    "off_bound = np.array([0., 1300000.])\n",
    "for k in range(0, 2 * n_s):\n",
    "    lower_bound[k], upper_bound[k] = t0, tf\n",
    "p_optimize[n_s] = on_bound[0] + 1.\n",
    "for k in range(1, n_s):\n",
    "    p_optimize[k] = p_optimize[n_s + k - 1] + off_bound[0] + 1.\n",
    "    p_optimize[n_s + k] = p_optimize[k] + on_bound[0] + 1.\n",
    "    \n",
    "    \n",
    "#on_bound = np.array([6., tf])\n",
    "#off_bound = np.array([20., tf])\n",
    "p_optimize = np.array([  57.6,  309.6,  561.6,  813.6, 1065.6,  144. ,  396. ,  648. ,900. , 1152. ])\n",
    "#p_optimize = np.concatenate((p_python[n_s:],p_python[:n_s]))\n",
    "#tf"
   ]
  },
  {
   "cell_type": "code",
   "execution_count": 6,
   "metadata": {},
   "outputs": [
    {
     "data": {
      "text/plain": [
       "array([  57.6,  309.6,  561.6,  813.6, 1065.6,  144. ,  396. ,  648. ,\n",
       "        900. , 1152. ])"
      ]
     },
     "execution_count": 6,
     "metadata": {},
     "output_type": "execute_result"
    }
   ],
   "source": [
    "p_optimize"
   ]
  },
  {
   "cell_type": "code",
   "execution_count": 7,
   "metadata": {},
   "outputs": [
    {
     "data": {
      "text/plain": [
       "(array([86.4, 86.4, 86.4, 86.4, 86.4]),\n",
       " array([165.6, 165.6, 165.6, 165.6, 288. ]))"
      ]
     },
     "execution_count": 7,
     "metadata": {},
     "output_type": "execute_result"
    }
   ],
   "source": [
    "on_times = p_optimize[n_s:] - p_optimize[:n_s]\n",
    "off_times = np.append( p_optimize[1:n_s] - p_optimize[(n_s):(-1)], np.array(tf - p_optimize[-1]))\n",
    "on_times, off_times            "
   ]
  },
  {
   "cell_type": "code",
   "execution_count": 8,
   "metadata": {},
   "outputs": [],
   "source": [
    "wwtp.set_p_const(p_const)\n",
    "wwtp.set_p_dynamic(p_dynamic)\n",
    "wwtp.set_p_optimize(p_optimize)\n",
    "wwtp.set_t0(t0)\n",
    "wwtp.set_tf(tf)\n",
    "wwtp.set_dt(dt)\n",
    "wwtp.set_x0(x0)\n",
    "wwtp.set_lower_bound(lower_bound)\n",
    "wwtp.set_upper_bound(upper_bound)\n",
    "wwtp.set_on_bound(on_bound)\n",
    "wwtp.set_off_bound(off_bound)"
   ]
  },
  {
   "cell_type": "code",
   "execution_count": 9,
   "metadata": {},
   "outputs": [
    {
     "name": "stdout",
     "output_type": "stream",
     "text": [
      "[1.0980e-01 6.6924e+01 5.1000e-02 9.4891e+01 1.2400e+04 2.5000e+02\n",
      " 9.0000e+00]\n",
      "-\n",
      "[9.5000e-05 1.0068e-05 1.0850e-05 1.0816e-05 9.4320e-05 9.3640e-05\n",
      " 2.5640e-05 3.7200e-05 9.5680e-05 8.4800e-05 9.5000e-05 7.8000e-05\n",
      " 9.5680e-05 8.4800e-05 6.1000e-05 4.4000e-05 9.0240e-05 2.6320e-05\n",
      " 1.2040e-05 6.1680e-05 1.2040e-05 2.3600e-05 3.7200e-05 9.5000e-05\n",
      " 9.5000e-05 1.0068e-05 1.0850e-05 1.0816e-05 9.4320e-05 9.3640e-05\n",
      " 2.5640e-05 3.7200e-05 9.5680e-05 8.4800e-05 9.5000e-05 7.8000e-05\n",
      " 9.5680e-05 8.4800e-05 6.1000e-05 4.4000e-05 9.0240e-05 2.6320e-05\n",
      " 1.2040e-05 6.1680e-05 1.2040e-05 2.3600e-05 3.7200e-05 9.5000e-05\n",
      " 0.0000e+00 6.0000e+01 1.2000e+02 1.8000e+02 2.4000e+02 3.0000e+02\n",
      " 3.6000e+02 4.2000e+02 4.8000e+02 5.4000e+02 6.0000e+02 6.6000e+02\n",
      " 7.2000e+02 7.8000e+02 8.4000e+02 9.0000e+02 9.6000e+02 1.0200e+03\n",
      " 1.0800e+03 1.1400e+03 1.2000e+03 1.2600e+03 1.3200e+03 1.3800e+03\n",
      " 1.4400e+03 1.5000e+03 1.5600e+03 1.6200e+03 1.6800e+03 1.7400e+03\n",
      " 1.8000e+03 1.8600e+03 1.9200e+03 1.9800e+03 2.0400e+03 2.1000e+03\n",
      " 2.1600e+03 2.2200e+03 2.2800e+03 2.3400e+03 2.4000e+03 2.4600e+03\n",
      " 2.5200e+03 2.5800e+03 2.6400e+03 2.7000e+03 2.7600e+03 2.8200e+03\n",
      " 2.8800e+03]\n",
      "-\n",
      "[  57.6  309.6  561.6  813.6 1065.6  144.   396.   648.   900.  1152. ]\n",
      "-\n",
      "0.0\n",
      "-\n",
      "1440.0\n",
      "-\n",
      "0.1\n",
      "-\n",
      "[24.  0.]\n",
      "-\n",
      "[0. 0. 0. 0. 0. 0. 0. 0. 0. 0.]\n",
      "-\n",
      "[0. 0. 0. 0. 0. 0. 0. 0. 0. 0.]\n",
      "-\n",
      "[     0. 100000.    480.]\n",
      "-\n",
      "[      0. 1300000.]\n",
      "-\n",
      "[  57.6  309.6  561.6  813.6 1065.6  144.   396.   648.   900.  1152. ]\n",
      "-\n",
      "[9.5000e-05 1.0068e-05 1.0850e-05 1.0816e-05 9.4320e-05 9.3640e-05\n",
      " 2.5640e-05 3.7200e-05 9.5680e-05 8.4800e-05 9.5000e-05 7.8000e-05\n",
      " 9.5680e-05 8.4800e-05 6.1000e-05 4.4000e-05 9.0240e-05 2.6320e-05\n",
      " 1.2040e-05 6.1680e-05 1.2040e-05 2.3600e-05 3.7200e-05 9.5000e-05\n",
      " 9.5000e-05 1.0068e-05 1.0850e-05 1.0816e-05 9.4320e-05 9.3640e-05\n",
      " 2.5640e-05 3.7200e-05 9.5680e-05 8.4800e-05 9.5000e-05 7.8000e-05\n",
      " 9.5680e-05 8.4800e-05 6.1000e-05 4.4000e-05 9.0240e-05 2.6320e-05\n",
      " 1.2040e-05 6.1680e-05 1.2040e-05 2.3600e-05 3.7200e-05 9.5000e-05\n",
      " 0.0000e+00 6.0000e+01 1.2000e+02 1.8000e+02 2.4000e+02 3.0000e+02\n",
      " 3.6000e+02 4.2000e+02 4.8000e+02 5.4000e+02 6.0000e+02 6.6000e+02\n",
      " 7.2000e+02 7.8000e+02 8.4000e+02 9.0000e+02 9.6000e+02 1.0200e+03\n",
      " 1.0800e+03 1.1400e+03 1.2000e+03 1.2600e+03 1.3200e+03 1.3800e+03\n",
      " 1.4400e+03 1.5000e+03 1.5600e+03 1.6200e+03 1.6800e+03 1.7400e+03\n",
      " 1.8000e+03 1.8600e+03 1.9200e+03 1.9800e+03 2.0400e+03 2.1000e+03\n",
      " 2.1600e+03 2.2200e+03 2.2800e+03 2.3400e+03 2.4000e+03 2.4600e+03\n",
      " 2.5200e+03 2.5800e+03 2.6400e+03 2.7000e+03 2.7600e+03 2.8200e+03\n",
      " 2.8800e+03]\n",
      "-\n"
     ]
    }
   ],
   "source": [
    "print(wwtp.get_p_const())\n",
    "print(\"-\")\n",
    "print(wwtp.get_p_dynamic())\n",
    "print(\"-\")\n",
    "print(wwtp.get_p_optimize())\n",
    "print(\"-\")\n",
    "print(wwtp.get_t0())\n",
    "print(\"-\")\n",
    "print(wwtp.get_tf())\n",
    "print(\"-\")\n",
    "print(wwtp.get_dt())\n",
    "print(\"-\")\n",
    "print(wwtp.get_x0())\n",
    "print(\"-\")\n",
    "print(wwtp.get_lower_bound())\n",
    "print(\"-\")\n",
    "print(wwtp.get_upper_bound())\n",
    "print(\"-\")\n",
    "print(wwtp.get_on_bound())\n",
    "print(\"-\")\n",
    "print(wwtp.get_off_bound())\n",
    "print(\"-\")\n",
    "print(wwtp.get_p_optimize())\n",
    "print(\"-\")\n",
    "print(wwtp.get_p_dynamic())\n",
    "print(\"-\")"
   ]
  },
  {
   "cell_type": "code",
   "execution_count": null,
   "metadata": {},
   "outputs": [],
   "source": [
    "wwtp.solve()"
   ]
  },
  {
   "cell_type": "code",
   "execution_count": null,
   "metadata": {},
   "outputs": [],
   "source": [
    "np.array(wwtp.get_p_optimize_ipopt())"
   ]
  },
  {
   "cell_type": "code",
   "execution_count": null,
   "metadata": {},
   "outputs": [],
   "source": [
    "print(wwtp.get_init_status())\n",
    "print(wwtp.get_solve_status())"
   ]
  },
  {
   "cell_type": "code",
   "execution_count": null,
   "metadata": {},
   "outputs": [],
   "source": [
    "p_opt[(n_s):(-1)]"
   ]
  },
  {
   "cell_type": "code",
   "execution_count": null,
   "metadata": {},
   "outputs": [],
   "source": [
    "p_opt = wwtp.get_p_optimize_ipopt()\n",
    "on_times =  p_opt[n_s:] - p_opt[:n_s]\n",
    "off_times =   p_opt[1:n_s] - p_opt[(n_s):(-1)]    #np.append( p_opt[1:n_s] - p_opt[(n_s):(-1)], np.array(tf - p_opt[-1]))\n",
    "on_times, off_times#, np.sum(on_times) + np.sum(off_times)"
   ]
  },
  {
   "cell_type": "code",
   "execution_count": null,
   "metadata": {},
   "outputs": [],
   "source": [
    "print(wwtp.get_p_optimize_ipopt() - wwtp.get_p_optimize())"
   ]
  },
  {
   "cell_type": "code",
   "execution_count": null,
   "metadata": {},
   "outputs": [],
   "source": [
    "wwtp.get_p_optimize_ipopt()"
   ]
  },
  {
   "cell_type": "code",
   "execution_count": null,
   "metadata": {},
   "outputs": [],
   "source": [
    "wwtp.get_p_optimize()"
   ]
  },
  {
   "cell_type": "code",
   "execution_count": null,
   "metadata": {},
   "outputs": [],
   "source": []
  }
 ],
 "metadata": {
  "kernelspec": {
   "display_name": "Python 3",
   "language": "python",
   "name": "python3"
  },
  "language_info": {
   "codemirror_mode": {
    "name": "ipython",
    "version": 3
   },
   "file_extension": ".py",
   "mimetype": "text/x-python",
   "name": "python",
   "nbconvert_exporter": "python",
   "pygments_lexer": "ipython3",
   "version": "3.7.4"
  }
 },
 "nbformat": 4,
 "nbformat_minor": 2
}
